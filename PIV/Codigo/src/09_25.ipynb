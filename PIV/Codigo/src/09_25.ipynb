{
 "cells": [
  {
   "cell_type": "code",
   "execution_count": 25,
   "id": "986fc836",
   "metadata": {},
   "outputs": [],
   "source": [
    "import numpy as np\n",
    "import cv2\n",
    "import os"
   ]
  },
  {
   "cell_type": "code",
   "execution_count": 26,
   "id": "10915b7c",
   "metadata": {},
   "outputs": [],
   "source": [
    "fileDir = \"./imageDatabase\""
   ]
  },
  {
   "cell_type": "code",
   "execution_count": 34,
   "id": "305c6be2",
   "metadata": {},
   "outputs": [],
   "source": [
    "# Exercicio 2.1\n",
    "\n",
    "cam = cv2.VideoCapture(0)\n",
    "_, bg = cam.read()\n",
    "min_diff = [126, 126, 126]\n",
    "\n",
    "while True:\n",
    "    \n",
    "    if cv2.waitKey(1) == ord('q'):\n",
    "        cam.release()\n",
    "        cv2.destroyAllWindows()\n",
    "        break\n",
    "    \n",
    "    ret, frame = cam.read()\n",
    "    cv2.imshow(\"Camera\", frame)\n",
    "    \n",
    "    if cv2.waitKey(1) == ord('c'):\n",
    "        bg = frame\n",
    "    \n",
    "    bg = bg/255\n",
    "    frame = frame/255\n",
    "    diff = np.abs(bg-frame)\n",
    "    diff = diff*255\n",
    "    mask = np.zeros_like(diff, dtype=np.uint8)\n",
    "    mask[diff >= min_diff] = 255\n",
    "    \n",
    "    cv2.imshow('mask', mask)\n",
    "\n",
    "# objImage= cv2.imread(fileDir+objFileName)\n",
    "# bgImage= cv2.imread(fileDir+bgFileName)\n",
    "\n",
    "# #Ir á imagem original e ver onde tem os valores indicados \n",
    "# maskImageInv= cv2.inRange(objImage, chromaKey_color-20, chromaKey_color+20)\n",
    "# maskImageM= 255 - maskImageInv\n",
    "\n",
    "# cv2.imshow('Mask original', maskImageInv)\n",
    "\n",
    "# maskImage= cv2.cvtColor(maskImageM, cv2.COLOR_GRAY2BGR)\n",
    "\n",
    "# img1= cv2.multiply(objImage, maskImage, scale= 1.0/255)\n",
    "# img2= cv2.multiply(bgImage, 255 - maskImage, scale= 1.0/255)\n",
    "\n",
    "# outImage= cv2.add(img1, img2)\n",
    "\n",
    "# cv2.imshow('Image Out', outImage)"
   ]
  }
 ],
 "metadata": {
  "kernelspec": {
   "display_name": "Codigo",
   "language": "python",
   "name": "python3"
  },
  "language_info": {
   "codemirror_mode": {
    "name": "ipython",
    "version": 3
   },
   "file_extension": ".py",
   "mimetype": "text/x-python",
   "name": "python",
   "nbconvert_exporter": "python",
   "pygments_lexer": "ipython3",
   "version": "3.13.7"
  }
 },
 "nbformat": 4,
 "nbformat_minor": 5
}

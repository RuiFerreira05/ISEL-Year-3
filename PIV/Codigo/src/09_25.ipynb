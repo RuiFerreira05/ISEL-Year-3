{
 "cells": [
  {
   "cell_type": "code",
   "execution_count": 2,
   "id": "986fc836",
   "metadata": {},
   "outputs": [],
   "source": [
    "import numpy as np\n",
    "import cv2\n",
    "import matplotlib.pyplot as plt"
   ]
  },
  {
   "cell_type": "code",
   "execution_count": 3,
   "id": "1ac3948f",
   "metadata": {},
   "outputs": [],
   "source": [
    "cv2.destroyAllWindows()"
   ]
  },
  {
   "cell_type": "code",
   "execution_count": 4,
   "id": "eb6b10f0",
   "metadata": {},
   "outputs": [],
   "source": [
    "def showImages(images, titles):\n",
    "    for i, image in enumerate(images):\n",
    "        cv2.imshow(titles[i], image)\n",
    "    cv2.waitKey(0)\n",
    "    cv2.destroyAllWindows()"
   ]
  },
  {
   "cell_type": "markdown",
   "id": "894640b9",
   "metadata": {},
   "source": [
    "### Exercício 2.1"
   ]
  },
  {
   "cell_type": "code",
   "execution_count": 5,
   "id": "10915b7c",
   "metadata": {},
   "outputs": [],
   "source": [
    "object_image = cv2.imread(\"imageDatabase/falcon.jpg\")\n",
    "mask = cv2.imread(\"imageDatabase/mask.png\")\n",
    "background = cv2.imread(\"imageDatabase/florest.jpg\")\n",
    "\n",
    "showImages([object_image, mask, background], [\"object_image\", \"mask\", \"background\"])"
   ]
  },
  {
   "cell_type": "code",
   "execution_count": 6,
   "id": "305c6be2",
   "metadata": {},
   "outputs": [],
   "source": [
    "mask[mask == 255] = 1\n",
    "\n",
    "i_mask = np.zeros_like(mask)\n",
    "i_mask[mask == 0] = 1\n",
    "\n",
    "objmask = cv2.multiply(object_image, mask)\n",
    "\n",
    "backMask = cv2.multiply(background, i_mask)\n",
    "\n",
    "imageOut = cv2.add(objmask, backMask)\n",
    "\n",
    "showImages([objmask, backMask, imageOut], [\"object * mask\", \"background * i_mask\", \"imageOut\"])"
   ]
  },
  {
   "cell_type": "markdown",
   "id": "d8b31b12",
   "metadata": {},
   "source": [
    "### Exercício 2.3"
   ]
  },
  {
   "cell_type": "code",
   "execution_count": 7,
   "id": "71e326c9",
   "metadata": {},
   "outputs": [
    {
     "name": "stdout",
     "output_type": "stream",
     "text": [
      "[[-1.0000000e+00  1.2246468e-16  4.0000000e+02]\n",
      " [-1.2246468e-16 -1.0000000e+00  5.0000000e+02]]\n"
     ]
    }
   ],
   "source": [
    "normal_image = imageOut\n",
    "height, width, _ = normal_image.shape\n",
    "center = (width//2, height//2)\n",
    "\n",
    "rotMatrix = cv2.getRotationMatrix2D(center, 180, 1)\n",
    "print(rotMatrix)\n",
    "\n",
    "rotated_image = cv2.warpAffine(normal_image, rotMatrix, (width, height))\n",
    "\n",
    "showImages([normal_image, rotated_image], [\"normal image\", \"rotated image\"])"
   ]
  },
  {
   "cell_type": "markdown",
   "id": "33a88072",
   "metadata": {},
   "source": [
    "### Exercício 3.1"
   ]
  },
  {
   "cell_type": "code",
   "execution_count": 8,
   "id": "b558c05a",
   "metadata": {},
   "outputs": [
    {
     "name": "stdout",
     "output_type": "stream",
     "text": [
      "(720, 1280)\n",
      "(256,)\n"
     ]
    },
    {
     "data": {
      "text/plain": [
       "<BarContainer object of 256 artists>"
      ]
     },
     "execution_count": 8,
     "metadata": {},
     "output_type": "execute_result"
    },
    {
     "data": {
      "image/png": "[encoded data removed]",
      "text/plain": [
       "<Figure size 640x480 with 1 Axes>"
      ]
     },
     "metadata": {},
     "output_type": "display_data"
    }
   ],
   "source": [
    "image_gs = cv2.imread(\"imageDatabase/jet.jpg\")\n",
    "image_gs = cv2.cvtColor(image_gs, cv2.COLOR_BGR2GRAY)\n",
    "print(image_gs.shape)\n",
    "\n",
    "hist = cv2.calcHist([image_gs], [0], None, [256], [0, 256])\n",
    "hist = hist.flatten()\n",
    "print(hist.shape)\n",
    "\n",
    "plt.bar(np.arange(len(hist)), hist)"
   ]
  },
  {
   "cell_type": "markdown",
   "id": "24471c24",
   "metadata": {},
   "source": [
    "### Exercício 3.2"
   ]
  },
  {
   "cell_type": "code",
   "execution_count": 9,
   "id": "4a754a3e",
   "metadata": {},
   "outputs": [
    {
     "name": "stdout",
     "output_type": "stream",
     "text": [
      "180.0\n",
      "159.0\n"
     ]
    }
   ],
   "source": [
    "ret1, image_bw = cv2.threshold(image_gs, 180, 255, cv2.THRESH_BINARY)\n",
    "ret2, image_bw_otsu = cv2.threshold(image_gs, 0, 255, cv2.THRESH_OTSU)\n",
    "image_bw_adaptive = cv2.adaptiveThreshold(image_gs, 255, cv2.ADAPTIVE_THRESH_GAUSSIAN_C, cv2.THRESH_BINARY, 15, 4)\n",
    "\n",
    "print(ret1)\n",
    "print(ret2)\n",
    "\n",
    "showImages([image_bw, image_bw_otsu, image_bw_adaptive], [\"image_bw - thr = \"+str(ret1), \"image_bw_otsu - thr = \"+str(ret2), \"image_bw_adaptive\"])"
   ]
  },
  {
   "cell_type": "markdown",
   "id": "323862c3",
   "metadata": {},
   "source": [
    "### Exercício 3.4"
   ]
  },
  {
   "cell_type": "code",
   "execution_count": 23,
   "id": "94450db7",
   "metadata": {},
   "outputs": [
    {
     "name": "stdout",
     "output_type": "stream",
     "text": [
      "7\n",
      "(400, 640)\n",
      "['left', 'top', 'width', 'height', 'area']\n",
      "[[    46     36    449    339  46262]\n",
      " [     0      0    640    400 175523]\n",
      " [    91     60    103    132   9389]\n",
      " [   328     65    150    128  11383]\n",
      " [   373     88     56     74   2286]\n",
      " [   197    253    178    104  10470]\n",
      " [   261    307     47     20    687]]\n",
      "(7, 2)\n"
     ]
    }
   ],
   "source": [
    "test_img = cv2.imread(\"imageDatabase/ImTest1.jpg\")\n",
    "test_img_gs = cv2.cvtColor(test_img, cv2.COLOR_BGR2GRAY)\n",
    "ret, test_img_bw = cv2.threshold(test_img_gs, 127, 255, cv2.THRESH_BINARY)\n",
    "\n",
    "contours, hierarchy = cv2.findContours(test_img_bw, cv2.RETR_TREE, cv2.CHAIN_APPROX_SIMPLE)\n",
    "\n",
    "contour_img = np.zeros_like(test_img_bw)\n",
    "contour_img = cv2.drawContours(contour_img, contours, -1, (255, 255, 255), 2)\n",
    "# showImages([contour_img], [\"contour image\"])\n",
    "\n",
    "total_labels, labels_id, stats, centroid = cv2.connectedComponentsWithStats(test_img_bw)\n",
    "print(total_labels)\n",
    "print(labels_id.shape)\n",
    "print([\"left\", \"top\", \"width\", \"height\", \"area\"])\n",
    "print(stats)\n",
    "print(centroid.shape)"
   ]
  }
 ],
 "metadata": {
  "kernelspec": {
   "display_name": "Codigo",
   "language": "python",
   "name": "python3"
  },
  "language_info": {
   "codemirror_mode": {
    "name": "ipython",
    "version": 3
   },
   "file_extension": ".py",
   "mimetype": "text/x-python",
   "name": "python",
   "nbconvert_exporter": "python",
   "pygments_lexer": "ipython3",
   "version": "3.13.7"
  }
 },
 "nbformat": 4,
 "nbformat_minor": 5
}

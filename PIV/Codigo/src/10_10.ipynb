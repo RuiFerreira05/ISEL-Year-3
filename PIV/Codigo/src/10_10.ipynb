{
 "cells": [
  {
   "cell_type": "code",
   "execution_count": 12,
   "id": "fc1ba7ce",
   "metadata": {},
   "outputs": [],
   "source": [
    "import numpy as np\n",
    "import scipy.spatial.distance as ssd"
   ]
  },
  {
   "cell_type": "code",
   "execution_count": 27,
   "id": "d6d9664b",
   "metadata": {},
   "outputs": [
    {
     "name": "stdout",
     "output_type": "stream",
     "text": [
      "2.380709511422546\n"
     ]
    },
    {
     "data": {
      "text/plain": [
       "array([[0.50990195, 0.50990195],\n",
       "       [1.21655251, 1.21655251],\n",
       "       [0.58309519, 0.58309519],\n",
       "       [3.08706981, 3.08706981],\n",
       "       [2.9       , 2.9       ],\n",
       "       [1.80277564, 1.80277564]])"
      ]
     },
     "execution_count": 27,
     "metadata": {},
     "output_type": "execute_result"
    }
   ],
   "source": [
    "z = [[0.7, 1], [1, 2.1], [1.7, 1.2], [2.5, 3.7], [3.2, 3], [3, 1]]\n",
    "target = [1, 1, 1, 2, 2, 2]\n",
    "\n",
    "q = np.array([[1.2, 0.9], [2, 2], [1.6, 4], [3.6, 2.2]])\n",
    "\n",
    "centroid1 = np.mean(z[:3], axis=0)\n",
    "centroid2 = np.mean(z[3:], axis=0)\n",
    "\n",
    "print(ssd.euclidean(q[0], centroid2))\n",
    "\n",
    "dist = np.zeros_like(z)\n",
    "for i, point in enumerate(z):\n",
    "    dist[i] = ssd.euclidean(q[0], point)\n",
    "\n",
    "dist"
   ]
  }
 ],
 "metadata": {
  "kernelspec": {
   "display_name": "Python 3",
   "language": "python",
   "name": "python3"
  },
  "language_info": {
   "codemirror_mode": {
    "name": "ipython",
    "version": 3
   },
   "file_extension": ".py",
   "mimetype": "text/x-python",
   "name": "python",
   "nbconvert_exporter": "python",
   "pygments_lexer": "ipython3",
   "version": "3.13.7"
  }
 },
 "nbformat": 4,
 "nbformat_minor": 5
}

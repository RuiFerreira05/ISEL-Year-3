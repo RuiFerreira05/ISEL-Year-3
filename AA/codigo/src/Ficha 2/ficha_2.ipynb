{
 "cells": [
  {
   "cell_type": "code",
   "execution_count": null,
   "id": "d2371320",
   "metadata": {},
   "outputs": [],
   "source": [
    "import numpy as np\n",
    "import numpy.random as rd\n",
    "import matplotlib.pyplot as plt\n",
    "import sklearn.datasets as dt\n",
    "from sklearn.linear_model import LogisticRegression\n",
    "from sklearn.model_selection import train_test_split\n",
    "from sklearn.metrics import confusion_matrix, classification_report, roc_curve, precision_recall_curve\n",
    "import pickle"
   ]
  },
  {
   "cell_type": "code",
   "execution_count": null,
   "id": "8f6288f5",
   "metadata": {},
   "outputs": [],
   "source": [
    "pickle_file = \"\"\n",
    "\n",
    "with open(pickle_file, 'rb') as file:\n",
    "    dataset: dict = pickle.loads(file.read())\n",
    "\n",
    "print(dataset.shape)\n",
    "print(dataset)"
   ]
  },
  {
   "cell_type": "code",
   "execution_count": null,
   "id": "d57d25ac",
   "metadata": {},
   "outputs": [],
   "source": [
    "data = np.array(dataset.get('dados'))\n",
    "target = np.array(dataset.get('trueClass'))"
   ]
  }
 ],
 "metadata": {
  "kernelspec": {
   "display_name": "codigo",
   "language": "python",
   "name": "python3"
  },
  "language_info": {
   "name": "python",
   "version": "3.14.0"
  }
 },
 "nbformat": 4,
 "nbformat_minor": 5
}

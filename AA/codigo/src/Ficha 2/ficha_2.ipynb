{
 "cells": [
  {
   "cell_type": "code",
   "execution_count": 117,
   "id": "d2371320",
   "metadata": {},
   "outputs": [],
   "source": [
    "import numpy as np\n",
    "import numpy.random as rd\n",
    "import matplotlib.pyplot as plt\n",
    "import sklearn.datasets as dt\n",
    "from sklearn.linear_model import LogisticRegression\n",
    "from sklearn.model_selection import train_test_split\n",
    "from sklearn.metrics import confusion_matrix, classification_report, roc_curve, precision_recall_curve\n",
    "import scipy.spatial.distance as ssp\n",
    "import pickle"
   ]
  },
  {
   "cell_type": "code",
   "execution_count": 118,
   "id": "8f6288f5",
   "metadata": {},
   "outputs": [
    {
     "name": "stdout",
     "output_type": "stream",
     "text": [
      "dict_keys(['Q001', 'Q002', 'nome', 'numero'])\n",
      "[[-1. -1. -1. -1.]\n",
      " [-1. -1. -1. -1.]]\n",
      "[[-1. -1. -1. -1.]\n",
      " [-1. -1. -1. -1.]\n",
      " [-1. -1. -1. -1.]\n",
      " [-1. -1. -1. -1.]]\n",
      "Rui Manuel Branco Cardoso Rodrigues Ferreira\n",
      "A51597\n"
     ]
    }
   ],
   "source": [
    "pickle_file = \"./A51597_Ficha2_Respostas.p\"\n",
    "\n",
    "with open(pickle_file, 'rb') as file:\n",
    "    respostas: dict = pickle.loads(file.read())\n",
    "\n",
    "print(respostas.keys())\n",
    "print(respostas['Q001'])\n",
    "print(respostas['Q002'])\n",
    "print(respostas['nome'])\n",
    "print(respostas['numero'])"
   ]
  },
  {
   "cell_type": "code",
   "execution_count": 119,
   "id": "7722973e",
   "metadata": {},
   "outputs": [
    {
     "name": "stdout",
     "output_type": "stream",
     "text": [
      "dict_keys(['trueClass', 'estClass'])\n"
     ]
    }
   ],
   "source": [
    "data_file = \"./A51597_Q001_data.p\"\n",
    "\n",
    "with open(data_file, 'rb') as file:\n",
    "    dataset: dict = pickle.loads(file.read())\n",
    "\n",
    "print(dataset.keys())"
   ]
  },
  {
   "cell_type": "code",
   "execution_count": 120,
   "id": "d57d25ac",
   "metadata": {},
   "outputs": [],
   "source": [
    "pred = np.array(dataset.get('estClass'))\n",
    "target = np.array(dataset.get('trueClass'))"
   ]
  },
  {
   "cell_type": "code",
   "execution_count": 121,
   "id": "8867b1cb",
   "metadata": {},
   "outputs": [
    {
     "name": "stdout",
     "output_type": "stream",
     "text": [
      "              precision    recall  f1-score   support\n",
      "\n",
      "         0.0      0.951     0.895     0.922      1170\n",
      "         1.0      0.824     0.914     0.867       630\n",
      "\n",
      "    accuracy                          0.902      1800\n",
      "   macro avg      0.887     0.905     0.894      1800\n",
      "weighted avg      0.907     0.902     0.903      1800\n",
      "\n"
     ]
    }
   ],
   "source": [
    "report = classification_report(target, pred, digits=3)\n",
    "\n",
    "print(report)"
   ]
  },
  {
   "cell_type": "code",
   "execution_count": 122,
   "id": "8c9083e7",
   "metadata": {},
   "outputs": [],
   "source": [
    "respostas['Q001'][0] = [0, 1, 0, 0]"
   ]
  },
  {
   "cell_type": "code",
   "execution_count": 123,
   "id": "8002057a",
   "metadata": {},
   "outputs": [
    {
     "data": {
      "text/plain": [
       "<sklearn.metrics._plot.confusion_matrix.ConfusionMatrixDisplay at 0x1c9e2bfd6e0>"
      ]
     },
     "execution_count": 123,
     "metadata": {},
     "output_type": "execute_result"
    },
    {
     "data": {
      "image/png": "[encoded data removed]",
      "text/plain": [
       "<Figure size 640x480 with 2 Axes>"
      ]
     },
     "metadata": {},
     "output_type": "display_data"
    }
   ],
   "source": [
    "from sklearn.metrics import ConfusionMatrixDisplay\n",
    "\n",
    "\n",
    "cm = confusion_matrix(target, pred)\n",
    "\n",
    "display = ConfusionMatrixDisplay(cm)\n",
    "display.plot(cmap=\"Blues\")"
   ]
  },
  {
   "cell_type": "code",
   "execution_count": 124,
   "id": "e847f0d1",
   "metadata": {},
   "outputs": [
    {
     "name": "stdout",
     "output_type": "stream",
     "text": [
      "89.5\n",
      "91.4\n"
     ]
    }
   ],
   "source": [
    "print(np.round(1047/(1047+123) * 100, 1))\n",
    "print(np.round(576/(576+54) * 100, 1))"
   ]
  },
  {
   "cell_type": "code",
   "execution_count": 125,
   "id": "1e1921ed",
   "metadata": {},
   "outputs": [],
   "source": [
    "respostas['Q001'][1] = [1, 0, 0, 0]"
   ]
  },
  {
   "cell_type": "code",
   "execution_count": 126,
   "id": "bfdff949",
   "metadata": {},
   "outputs": [
    {
     "data": {
      "text/plain": [
       "array([[0., 1., 0., 0.],\n",
       "       [1., 0., 0., 0.]])"
      ]
     },
     "execution_count": 126,
     "metadata": {},
     "output_type": "execute_result"
    }
   ],
   "source": [
    "respostas['Q001']"
   ]
  },
  {
   "cell_type": "markdown",
   "id": "43f7cd65",
   "metadata": {},
   "source": [
    "# 2."
   ]
  },
  {
   "cell_type": "code",
   "execution_count": 127,
   "id": "3f4d3b5e",
   "metadata": {},
   "outputs": [],
   "source": [
    "X = np.array([[0, 0, -4 , -3, 4, 3, 6, 4, 4], [4, 5, 1, 1, 2, 2, 4, 3, 3]])"
   ]
  },
  {
   "cell_type": "code",
   "execution_count": 128,
   "id": "29be0d64",
   "metadata": {},
   "outputs": [
    {
     "name": "stdout",
     "output_type": "stream",
     "text": [
      "[[ 0  0 -4 -3]\n",
      " [ 4  5  1  1]]\n",
      "[[3 6 4 4]\n",
      " [2 4 3 3]]\n",
      "(2, 4)\n",
      "(2, 4)\n",
      "w0 = 2.4291472461356847\n",
      "w1 = 2.433897324240702\n",
      "-----------------------\n",
      "w0 = 2.4049964410159985\n",
      "w1 = 2.181756585352055\n"
     ]
    }
   ],
   "source": [
    "Xw0 = X[:, :4]\n",
    "Xw1 = X[:, 5:]\n",
    "print(Xw0)\n",
    "print(Xw1)\n",
    "print(Xw0.shape)\n",
    "print(Xw1.shape)\n",
    "\n",
    "v = np.array([3, -1])\n",
    "\n",
    "print(\"w0 =\", np.mean(ssp.cdist(v[np.newaxis], Xw0.T, metric='mahalanobis')))\n",
    "print(\"w1 =\",np.mean(ssp.cdist(v[np.newaxis], Xw1.T, metric='mahalanobis')))\n",
    "\n",
    "print(\"-----------------------\")\n",
    "\n",
    "v = np.array([2, 1])\n",
    "\n",
    "print(\"w0 =\", np.mean(ssp.cdist(v[np.newaxis], Xw0.T, metric='mahalanobis')))\n",
    "print(\"w1 =\",np.mean(ssp.cdist(v[np.newaxis], Xw1.T, metric='mahalanobis')))"
   ]
  },
  {
   "cell_type": "code",
   "execution_count": 129,
   "id": "edef6e57",
   "metadata": {},
   "outputs": [],
   "source": [
    "respostas['Q002'][0] = [0, 1, 0, 0]"
   ]
  },
  {
   "cell_type": "code",
   "execution_count": 130,
   "id": "f02c4b1b",
   "metadata": {},
   "outputs": [
    {
     "name": "stdout",
     "output_type": "stream",
     "text": [
      "[-1.75  2.75]\n",
      "[4.25 3.  ]\n",
      "[[0.15633851]\n",
      " [0.15633851]\n",
      " [0.2745363 ]\n",
      " [0.223886  ]]\n",
      "------------------------\n",
      "[[0.4233168 ]\n",
      " [0.4233168 ]\n",
      " [1.65270903]\n",
      " [1.59268053]]\n",
      ".------------------.\n",
      "[[0.97872822]\n",
      " [0.97872822]\n",
      " [0.9233035 ]\n",
      " [0.9233035 ]]\n",
      "------------------------\n",
      "[[0.00035537]\n",
      " [0.00035537]\n",
      " [0.00041579]\n",
      " [0.00041579]]\n"
     ]
    }
   ],
   "source": [
    "c0 = np.mean(Xw0.T, axis=0)\n",
    "print(c0)\n",
    "\n",
    "c1 = np.mean(Xw1.T, axis=0)\n",
    "print(c1)\n",
    "\n",
    "v = Xw0\n",
    "\n",
    "print(ssp.cdist(v.T, c0[np.newaxis], metric='cosine'))\n",
    "print('------------------------')\n",
    "print(ssp.cdist(v.T, c1[np.newaxis], metric='cosine'))\n",
    "\n",
    "print('.------------------.')\n",
    "\n",
    "v = Xw1\n",
    "\n",
    "print(ssp.cdist(v.T, c0[np.newaxis], metric='cosine'))\n",
    "print('------------------------')\n",
    "print(ssp.cdist(v.T, c1[np.newaxis], metric='cosine'))\n",
    "\n",
    "# v = Xw0.T[0]\n",
    "# print(ssp.cdist(v[np.newaxis], c0[np.newaxis], metric='cosine'))\n",
    "# print(ssp.cdist(v[np.newaxis], c1[np.newaxis], metric='cosine'))\n",
    "# print('w0' if ssp.cdist(v[np.newaxis], c0[np.newaxis], metric='cosine') < ssp.cdist(v[np.newaxis], c1[np.newaxis], metric='cosine') else 'w1')"
   ]
  },
  {
   "cell_type": "code",
   "execution_count": 131,
   "id": "8cd1d4ec",
   "metadata": {},
   "outputs": [],
   "source": [
    "respostas['Q002'][1] = [0, 0, 0, 1]"
   ]
  },
  {
   "cell_type": "code",
   "execution_count": 132,
   "id": "2b537d29",
   "metadata": {},
   "outputs": [
    {
     "name": "stdout",
     "output_type": "stream",
     "text": [
      "[[6.25]]\n",
      "[[0.95]]\n"
     ]
    }
   ],
   "source": [
    "print(np.round(ssp.cdist(c0[np.newaxis], c1[np.newaxis], metric='cityblock'), 2))\n",
    "\n",
    "print(np.round(ssp.cdist(c0[np.newaxis], c1[np.newaxis], metric='cosine'), 2))"
   ]
  },
  {
   "cell_type": "code",
   "execution_count": 133,
   "id": "7b85adeb",
   "metadata": {},
   "outputs": [],
   "source": [
    "respostas['Q002'][2] = [0, 0, 0, 1]"
   ]
  },
  {
   "cell_type": "code",
   "execution_count": 134,
   "id": "8718f3c6",
   "metadata": {},
   "outputs": [
    {
     "name": "stdout",
     "output_type": "stream",
     "text": [
      "w0 = 7.5\n",
      "w1 = 2.75\n",
      "-----------------------\n",
      "w0 = 4.5\n",
      "w1 = 7.25\n"
     ]
    }
   ],
   "source": [
    "v = np.array([4, 1])\n",
    "\n",
    "print(\"w0 =\", np.mean(ssp.cdist(v[np.newaxis], Xw0.T, metric='cityblock')))\n",
    "print(\"w1 =\",np.mean(ssp.cdist(v[np.newaxis], Xw1.T, metric='cityblock')))\n",
    "\n",
    "print(\"-----------------------\")\n",
    "\n",
    "v = np.array([0, 0])\n",
    "\n",
    "print(\"w0 =\", np.mean(ssp.cdist(v[np.newaxis], Xw0.T, metric='cityblock')))\n",
    "print(\"w1 =\",np.mean(ssp.cdist(v[np.newaxis], Xw1.T, metric='cityblock')))"
   ]
  },
  {
   "cell_type": "code",
   "execution_count": 135,
   "id": "b6b83cc6",
   "metadata": {},
   "outputs": [],
   "source": [
    "respostas['Q002'][3] = [0, 0, 0, 1]"
   ]
  },
  {
   "cell_type": "code",
   "execution_count": 136,
   "id": "7b549735",
   "metadata": {},
   "outputs": [
    {
     "name": "stdout",
     "output_type": "stream",
     "text": [
      "[[0. 1. 0. 0.]\n",
      " [1. 0. 0. 0.]]\n",
      "[[0. 1. 0. 0.]\n",
      " [0. 0. 0. 1.]\n",
      " [0. 0. 0. 1.]\n",
      " [0. 0. 0. 1.]]\n"
     ]
    }
   ],
   "source": [
    "print(respostas['Q001'])\n",
    "print(respostas['Q002'])"
   ]
  },
  {
   "cell_type": "code",
   "execution_count": null,
   "id": "09857bb6",
   "metadata": {},
   "outputs": [
    {
     "name": "stdout",
     "output_type": "stream",
     "text": [
      "{'Q001': array([[0., 1., 0., 0.],\n",
      "       [1., 0., 0., 0.]]),\n",
      " 'Q002': array([[0., 1., 0., 0.],\n",
      "       [0., 0., 0., 1.],\n",
      "       [0., 0., 0., 1.],\n",
      "       [0., 0., 0., 1.]]),\n",
      " 'nome': 'Rui Manuel Branco Cardoso Rodrigues Ferreira',\n",
      " 'numero': 'A51597'}\n"
     ]
    }
   ],
   "source": [
    "from pprint import pprint\n",
    "\n",
    "\n",
    "b = pickle.dumps(respostas)\n",
    "\n",
    "with open('./A51597_Ficha2_Respostas_final.p', 'wb') as file:\n",
    "    file.write(b)\n",
    "    \n",
    "pprint(pickle.loads(open('A51597_Ficha2_Respostas_final.p', 'rb').read()))"
   ]
  }
 ],
 "metadata": {
  "kernelspec": {
   "display_name": "codigo",
   "language": "python",
   "name": "python3"
  },
  "language_info": {
   "codemirror_mode": {
    "name": "ipython",
    "version": 3
   },
   "file_extension": ".py",
   "mimetype": "text/x-python",
   "name": "python",
   "nbconvert_exporter": "python",
   "pygments_lexer": "ipython3",
   "version": "3.14.0"
  }
 },
 "nbformat": 4,
 "nbformat_minor": 5
}

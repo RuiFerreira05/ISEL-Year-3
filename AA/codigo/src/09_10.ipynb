{
 "cells": [
  {
   "cell_type": "code",
   "execution_count": 3,
   "id": "9fd3e6c6",
   "metadata": {},
   "outputs": [],
   "source": [
    "import sklearn\n",
    "import sklearn.datasets as dt\n",
    "import numpy as np\n",
    "import numpy.random as rd\n",
    "import matplotlib.pyplot as plt"
   ]
  },
  {
   "cell_type": "code",
   "execution_count": 4,
   "id": "871fb1ec",
   "metadata": {},
   "outputs": [
    {
     "name": "stdout",
     "output_type": "stream",
     "text": [
      "IRIS data shape: (150, 4)\n",
      "IRIS data (First three rows):\n",
      "[5.1 3.5 1.4 0.2]\n",
      "[4.9 3.  1.4 0.2]\n",
      "[4.7 3.2 1.3 0.2]\n",
      "\n",
      "IRIS TARGET shape: (150,)\n",
      "IRIS targets (First three rows): [0 0 0]\n"
     ]
    }
   ],
   "source": [
    "IRIS = dt.load_iris()\n",
    "IRIS_DATA = IRIS.data\n",
    "IRIS_TARGETS = IRIS.target\n",
    "\n",
    "print(f\"IRIS data shape: {IRIS_DATA.shape}\")\n",
    "print(f\"IRIS data (First three rows):\")\n",
    "print(*IRIS_DATA[0:3], sep=\"\\n\")\n",
    "\n",
    "print(f\"\\nIRIS TARGET shape: {IRIS_TARGETS.shape}\")\n",
    "print(f\"IRIS targets (First three rows): {IRIS_TARGETS[:3]}\")"
   ]
  },
  {
   "cell_type": "code",
   "execution_count": 5,
   "id": "b726a42e",
   "metadata": {},
   "outputs": [],
   "source": [
    "CLASSIFICATION_ARRAY = [[-8, 1, 5, -4, -1],\n",
    "                        [20, 0, -9, 4, -9],\n",
    "                        [-25, 0, 3, 0, 11]]"
   ]
  },
  {
   "cell_type": "markdown",
   "id": "3e949be5",
   "metadata": {},
   "source": [
    "### Transpose data array and insert ones for easy matrix multiplication"
   ]
  },
  {
   "cell_type": "code",
   "execution_count": 11,
   "id": "bc32387c",
   "metadata": {},
   "outputs": [
    {
     "name": "stdout",
     "output_type": "stream",
     "text": [
      "Transposed data shape: (4, 150)\n",
      "Same three examples, now transposed:\n",
      "[5.1 4.9 4.7]\n",
      "[3.5 3.  3.2]\n",
      "[1.4 1.4 1.3]\n",
      "[0.2 0.2 0.2]\n",
      "\n",
      "Ones array shape: (150,)\n",
      "Ones array (First 3 elements):\n",
      "[1. 1. 1.]\n",
      "\n",
      "FINAL ARRAY shape: (5, 150)\n",
      "Vstack result (First 3 points):\n",
      "[[1.  1.  1. ]\n",
      " [5.1 4.9 4.7]\n",
      " [3.5 3.  3.2]\n",
      " [1.4 1.4 1.3]\n",
      " [0.2 0.2 0.2]]\n"
     ]
    }
   ],
   "source": [
    "IRIS_T = IRIS_DATA.T\n",
    "print(f\"Transposed data shape: {IRIS_T.shape}\")\n",
    "print(f\"Same three examples, now transposed:\")\n",
    "print(*IRIS_T[:,:3], sep=\"\\n\")\n",
    "\n",
    "ONES_ARRAY = np.ones(150)\n",
    "print(f\"\\nOnes array shape: {ONES_ARRAY.shape}\")\n",
    "print(f\"Ones array (First 3 elements):\")\n",
    "print(ONES_ARRAY[:3])\n",
    "\n",
    "IRIS_FINAL = np.vstack((ONES_ARRAY, IRIS_T))\n",
    "print(f\"\\nFINAL ARRAY shape: {IRIS_FINAL.shape}\")\n",
    "print(f\"Vstack result (First 3 points):\")\n",
    "print(IRIS_FINAL[:,:3])"
   ]
  },
  {
   "cell_type": "markdown",
   "id": "9dec4f57",
   "metadata": {},
   "source": [
    "### Dot product"
   ]
  },
  {
   "cell_type": "code",
   "execution_count": 12,
   "id": "1af0a645",
   "metadata": {},
   "outputs": [
    {
     "name": "stdout",
     "output_type": "stream",
     "text": [
      "RESULTS shape (3, 150)\n",
      "RESULTS (first 3 examples):\n",
      "[[  8.8   6.1   7.3]\n",
      " [ -7.7  -3.2  -5.4]\n",
      " [-12.3 -13.8 -13.2]]\n"
     ]
    }
   ],
   "source": [
    "RESULTS = CLASSIFICATION_ARRAY@IRIS_FINAL\n",
    "\n",
    "print(f\"RESULTS shape {RESULTS.shape}\")\n",
    "print(f\"RESULTS (first 3 examples):\")\n",
    "print(RESULTS[:,:3])"
   ]
  },
  {
   "cell_type": "code",
   "execution_count": 14,
   "id": "d00cc337",
   "metadata": {},
   "outputs": [
    {
     "name": "stdout",
     "output_type": "stream",
     "text": [
      "PREDICTION shape (150,)\n",
      "PREDICTION (first 3 examples):\n",
      "[0 0 0]\n"
     ]
    }
   ],
   "source": [
    "IRIS_PREDICTION = np.argmax(RESULTS, axis=0)\n",
    "\n",
    "print(f\"PREDICTION shape {IRIS_PREDICTION.shape}\")\n",
    "print(f\"PREDICTION (first 3 examples):\")\n",
    "print(IRIS_PREDICTION[:3])"
   ]
  },
  {
   "cell_type": "code",
   "execution_count": 20,
   "id": "c5349764",
   "metadata": {},
   "outputs": [
    {
     "name": "stdout",
     "output_type": "stream",
     "text": [
      "num of predicted 0s that should be 0s: 50\n",
      "num of predicted 1s that should be 0s: 0\n",
      "num of predicted 2s that should be 0s: 0\n",
      "\n",
      "num of predicted 0s that should be 1s: 0\n",
      "num of predicted 1s that should be 1s: 32\n",
      "num of predicted 2s that should be 1s: 18\n",
      "\n",
      "num of predicted 0s that should be 2s: 0\n",
      "num of predicted 1s that should be 2s: 5\n",
      "num of predicted 2s that should be 2s: 45\n"
     ]
    }
   ],
   "source": [
    "print(f\"num of predicted 0s that should be 0s: {np.sum(IRIS_PREDICTION[IRIS_TARGETS == 0] == 0)}\")\n",
    "print(f\"num of predicted 1s that should be 0s: {np.sum(IRIS_PREDICTION[IRIS_TARGETS == 0] == 1)}\")\n",
    "print(f\"num of predicted 2s that should be 0s: {np.sum(IRIS_PREDICTION[IRIS_TARGETS == 0] == 2)}\")\n",
    "print()\n",
    "print(f\"num of predicted 0s that should be 1s: {np.sum(IRIS_PREDICTION[IRIS_TARGETS == 1] == 0)}\")\n",
    "print(f\"num of predicted 1s that should be 1s: {np.sum(IRIS_PREDICTION[IRIS_TARGETS == 1] == 1)}\")\n",
    "print(f\"num of predicted 2s that should be 1s: {np.sum(IRIS_PREDICTION[IRIS_TARGETS == 1] == 2)}\")\n",
    "print()\n",
    "print(f\"num of predicted 0s that should be 2s: {np.sum(IRIS_PREDICTION[IRIS_TARGETS == 2] == 0)}\")\n",
    "print(f\"num of predicted 1s that should be 2s: {np.sum(IRIS_PREDICTION[IRIS_TARGETS == 2] == 1)}\")\n",
    "print(f\"num of predicted 2s that should be 2s: {np.sum(IRIS_PREDICTION[IRIS_TARGETS == 2] == 2)}\")"
   ]
  },
  {
   "cell_type": "code",
   "execution_count": 22,
   "id": "00af9f50",
   "metadata": {},
   "outputs": [
    {
     "name": "stdout",
     "output_type": "stream",
     "text": [
      "Confusion Matrix:\n",
      "[50  0  0]\n",
      "[ 0 32 18]\n",
      "[ 0  5 45]\n"
     ]
    }
   ],
   "source": [
    "from sklearn.metrics import confusion_matrix\n",
    "\n",
    "cf = confusion_matrix(IRIS_TARGETS, IRIS_PREDICTION)\n",
    "\n",
    "print(f\"Confusion Matrix:\")\n",
    "print(*cf, sep=\"\\n\")"
   ]
  }
 ],
 "metadata": {
  "kernelspec": {
   "display_name": "codigo",
   "language": "python",
   "name": "python3"
  },
  "language_info": {
   "codemirror_mode": {
    "name": "ipython",
    "version": 3
   },
   "file_extension": ".py",
   "mimetype": "text/x-python",
   "name": "python",
   "nbconvert_exporter": "python",
   "pygments_lexer": "ipython3",
   "version": "3.14.0"
  }
 },
 "nbformat": 4,
 "nbformat_minor": 5
}

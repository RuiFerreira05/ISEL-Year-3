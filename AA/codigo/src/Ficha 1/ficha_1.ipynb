{
 "cells": [
  {
   "cell_type": "code",
   "execution_count": 66,
   "id": "a4c057c6",
   "metadata": {},
   "outputs": [],
   "source": [
    "import numpy as np\n",
    "import numpy.random as rd\n",
    "import matplotlib.pyplot as plt\n",
    "import sklearn.datasets as dt\n",
    "from sklearn.linear_model import LogisticRegression\n",
    "from sklearn.model_selection import train_test_split\n",
    "from sklearn.metrics import confusion_matrix, classification_report, roc_curve, precision_recall_curve\n",
    "import pickle"
   ]
  },
  {
   "cell_type": "code",
   "execution_count": 67,
   "id": "6dc6c699",
   "metadata": {},
   "outputs": [
    {
     "name": "stdout",
     "output_type": "stream",
     "text": [
      "[[-1. -1. -1. -1.]\n",
      " [-1. -1. -1. -1.]]\n"
     ]
    }
   ],
   "source": [
    "with open(\"A51597_Q001_data.p\", 'rb') as file:\n",
    "    dataset: dict = pickle.loads(file.read())\n",
    "    \n",
    "data = np.array(dataset.get('dados'))\n",
    "target = np.array(dataset.get('trueClass'))\n",
    "\n",
    "with open(\"A51597_Ficha1_Respostas.p\", 'rb') as file:\n",
    "    respostas = pickle.loads(file.read())\n",
    "    \n",
    "print(respostas.get('Q002'))"
   ]
  },
  {
   "cell_type": "code",
   "execution_count": 68,
   "id": "7b837d0a",
   "metadata": {},
   "outputs": [],
   "source": [
    "X = np.array([[-4, -4, -5, -4, 6, 6, 4], [-2, -1, -2, -2, -4, -4, -2]])\n",
    "X = X.T"
   ]
  },
  {
   "cell_type": "code",
   "execution_count": 69,
   "id": "549c9248",
   "metadata": {},
   "outputs": [
    {
     "name": "stdout",
     "output_type": "stream",
     "text": [
      "[ 11.56 -11.56]\n"
     ]
    }
   ],
   "source": [
    "class0 = X[:4]\n",
    "class1 = X[4:]\n",
    "\n",
    "cov = np.cov(class1.T)\n",
    "media = np.mean(class1, axis=0)\n",
    "result = np.dot(cov, media)\n",
    "result = np.round(result, 2)\n",
    "print(result)\n",
    "\n",
    "respostas.get('Q002')[0] = np.array([0, 0, 0, 1])"
   ]
  },
  {
   "cell_type": "code",
   "execution_count": 71,
   "id": "8acffe56",
   "metadata": {},
   "outputs": [
    {
     "name": "stdout",
     "output_type": "stream",
     "text": [
      "11.17\n",
      "1.58\n"
     ]
    }
   ],
   "source": [
    "media0 = np.mean(class0, axis=0)\n",
    "media1 = media\n",
    "\n",
    "dist_manh = np.sum(np.abs(media0 - media1))\n",
    "dist_manh = np.round(dist_manh, 2)\n",
    "\n",
    "print(dist_manh)\n",
    "\n",
    "cos_sim= np.dot(media0, media1) / (np.linalg.norm(media0) * np.linalg.norm(media1))\n",
    "cos_dist= 1 - cos_sim\n",
    "\n",
    "print(np.round(cos_dist, 2))\n",
    "\n",
    "respostas.get('Q002')[1] = np.array([1, 0, 0, 0])"
   ]
  },
  {
   "cell_type": "code",
   "execution_count": 72,
   "id": "1cb97bbc",
   "metadata": {},
   "outputs": [
    {
     "name": "stdout",
     "output_type": "stream",
     "text": [
      "[[-1. -1. -1. -1.]\n",
      " [-1. -1. -1. -1.]\n",
      " [-1. -1. -1. -1.]\n",
      " [-1. -1. -1. -1.]]\n",
      "[[0. 0. 0. 1.]\n",
      " [1. 0. 0. 0.]]\n"
     ]
    }
   ],
   "source": [
    "print(respostas.get('Q001'))\n",
    "print(respostas.get('Q002'))"
   ]
  },
  {
   "cell_type": "code",
   "execution_count": null,
   "id": "e5e8209a",
   "metadata": {},
   "outputs": [
    {
     "name": "stdout",
     "output_type": "stream",
     "text": [
      "{'Q001': array([[-1., -1., -1., -1.],\n",
      "       [-1., -1., -1., -1.],\n",
      "       [-1., -1., -1., -1.],\n",
      "       [-1., -1., -1., -1.]]), 'Q002': array([[0., 0., 0., 1.],\n",
      "       [1., 0., 0., 0.]]), 'nome': 'Rui Manuel Branco Cardoso Rodrigues Ferreira', 'numero': 'A51597'}\n"
     ]
    }
   ],
   "source": [
    "bytes = pickle.dumps(respostas)\n",
    "\n",
    "with open('A51597_Ficha1_Respostas_2.p', 'wb') as file:\n",
    "    file.write(bytes)\n",
    "    \n",
    "print(pickle.loads(open('A51597_Ficha1_Respostas_2.p', 'rb').read()))"
   ]
  }
 ],
 "metadata": {
  "kernelspec": {
   "display_name": "Python 3",
   "language": "python",
   "name": "python3"
  },
  "language_info": {
   "codemirror_mode": {
    "name": "ipython",
    "version": 3
   },
   "file_extension": ".py",
   "mimetype": "text/x-python",
   "name": "python",
   "nbconvert_exporter": "python",
   "pygments_lexer": "ipython3",
   "version": "3.13.7"
  }
 },
 "nbformat": 4,
 "nbformat_minor": 5
}

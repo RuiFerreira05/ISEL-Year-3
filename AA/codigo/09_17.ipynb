{
 "cells": [
  {
   "cell_type": "code",
   "execution_count": 479,
   "id": "b6218e2d",
   "metadata": {},
   "outputs": [],
   "source": [
    "import sklearn\n",
    "import sklearn.datasets as dt\n",
    "import numpy as np\n",
    "import numpy.random as rd\n",
    "import matplotlib.pyplot as plt"
   ]
  },
  {
   "cell_type": "code",
   "execution_count": 480,
   "id": "20641133",
   "metadata": {},
   "outputs": [],
   "source": [
    "from sklearn.model_selection import train_test_split\n",
    "from sklearn.linear_model import LogisticRegression\n",
    "from sklearn.metrics import confusion_matrix"
   ]
  },
  {
   "cell_type": "markdown",
   "id": "24e30538",
   "metadata": {},
   "source": [
    "Load Datasets"
   ]
  },
  {
   "cell_type": "code",
   "execution_count": 481,
   "id": "70f6036a",
   "metadata": {},
   "outputs": [
    {
     "name": "stdout",
     "output_type": "stream",
     "text": [
      "IRIS: (150, 4)\n",
      "WINE: (178, 13)\n"
     ]
    }
   ],
   "source": [
    "IRIS = dt.load_iris()\n",
    "print(f\"IRIS: {IRIS.data.shape}\")\n",
    "WINE = dt.load_wine()\n",
    "print(f\"WINE: {WINE.data.shape}\")"
   ]
  },
  {
   "cell_type": "markdown",
   "id": "c3d86b81",
   "metadata": {},
   "source": [
    "Split data into training and testing arrays"
   ]
  },
  {
   "cell_type": "code",
   "execution_count": 482,
   "id": "e2e48b72",
   "metadata": {},
   "outputs": [],
   "source": [
    "DATASET = WINE\n",
    "TEST_SIZE = 0.3\n",
    "STRATIFY = True\n",
    "SHUFFLE = True\n",
    "MAX_ITER = 10000"
   ]
  },
  {
   "cell_type": "code",
   "execution_count": 483,
   "id": "65215be4",
   "metadata": {},
   "outputs": [],
   "source": [
    "train_data, test_data, train_data_t, test_data_t = train_test_split(DATASET.data, DATASET.target, test_size=TEST_SIZE, shuffle=SHUFFLE, stratify=DATASET.target if STRATIFY else None)"
   ]
  },
  {
   "cell_type": "markdown",
   "id": "4885e31a",
   "metadata": {},
   "source": [
    "Train the logistic regressor"
   ]
  },
  {
   "cell_type": "code",
   "execution_count": 484,
   "id": "599d693a",
   "metadata": {},
   "outputs": [],
   "source": [
    "logreg = LogisticRegression(max_iter=MAX_ITER).fit(train_data, train_data_t)"
   ]
  },
  {
   "cell_type": "code",
   "execution_count": 485,
   "id": "d702ae66",
   "metadata": {},
   "outputs": [
    {
     "name": "stdout",
     "output_type": "stream",
     "text": [
      "Percentagem de acertos: 98.15\n"
     ]
    }
   ],
   "source": [
    "print(f'Percentagem de acertos: {(logreg.score(test_data, test_data_t)*100):.2f}')"
   ]
  },
  {
   "cell_type": "markdown",
   "id": "c3b345b0",
   "metadata": {},
   "source": [
    "Calculate the confusion matrix"
   ]
  },
  {
   "cell_type": "code",
   "execution_count": 486,
   "id": "407db32e",
   "metadata": {},
   "outputs": [
    {
     "name": "stdout",
     "output_type": "stream",
     "text": [
      "Confusion matrix:\n",
      "[18  0  0]\n",
      "[ 0 20  1]\n",
      "[ 0  0 15]\n",
      "\n",
      "Número total de erros: 1\n"
     ]
    }
   ],
   "source": [
    "predictions = logreg.predict(test_data)\n",
    "cf = confusion_matrix(test_data_t, predictions)\n",
    "print(f'Confusion matrix:')\n",
    "print(*cf, sep=\"\\n\")\n",
    "print(f'\\nNúmero total de erros: {np.sum(test_data_t != predictions)}')"
   ]
  },
  {
   "cell_type": "markdown",
   "id": "f5a3b772",
   "metadata": {},
   "source": [
    "## Geração de Variaveis Aleatórias"
   ]
  },
  {
   "cell_type": "code",
   "execution_count": 493,
   "id": "4f423d9f",
   "metadata": {},
   "outputs": [
    {
     "name": "stdout",
     "output_type": "stream",
     "text": [
      "[[-1.03469696 -1.00490217 -0.29046003 -0.4173907   0.88238836]\n",
      " [-0.21524882 -3.32586505 -0.07859279  0.93034309  0.18197655]\n",
      " [-0.75657633 -1.40026348 -0.51638562  0.27535075 -1.838095  ]]\n",
      "Norma: [1.2997452  3.74592372 0.59766041 1.05620609 2.0470266 ]\n"
     ]
    }
   ],
   "source": [
    "X = rd.randn(3, 5)\n",
    "print(X)\n",
    "print(f\"Norma: {np.sqrt(np.sum(X**2, axis=0))}\")"
   ]
  }
 ],
 "metadata": {
  "kernelspec": {
   "display_name": "Python 3",
   "language": "python",
   "name": "python3"
  },
  "language_info": {
   "codemirror_mode": {
    "name": "ipython",
    "version": 3
   },
   "file_extension": ".py",
   "mimetype": "text/x-python",
   "name": "python",
   "nbconvert_exporter": "python",
   "pygments_lexer": "ipython3",
   "version": "3.13.7"
  }
 },
 "nbformat": 4,
 "nbformat_minor": 5
}

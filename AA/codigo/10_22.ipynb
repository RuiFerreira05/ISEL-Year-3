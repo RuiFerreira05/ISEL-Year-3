{
 "cells": [
  {
   "cell_type": "code",
   "execution_count": 42,
   "id": "2e21d97a",
   "metadata": {},
   "outputs": [],
   "source": [
    "import numpy as np\n",
    "import numpy.random as rd\n",
    "import matplotlib.pyplot as plt\n",
    "import sklearn.datasets as dt\n",
    "from sklearn.linear_model import LogisticRegression\n",
    "from sklearn.model_selection import train_test_split\n",
    "from sklearn.metrics import confusion_matrix, classification_report, roc_curve, precision_recall_curve\n",
    "import pickle\n",
    "from sklearn.ensemble import RandomForestClassifier\n",
    "import scipy.spatial.distance as spd\n",
    "import sklearn.preprocessing as pp\n",
    "import numpy.linalg as la\n",
    "from sklearn.neighbors import KNeighborsClassifier"
   ]
  },
  {
   "cell_type": "code",
   "execution_count": 43,
   "id": "7f22278a",
   "metadata": {},
   "outputs": [
    {
     "name": "stdout",
     "output_type": "stream",
     "text": [
      ".. _breast_cancer_dataset:\n",
      "\n",
      "Breast cancer Wisconsin (diagnostic) dataset\n",
      "--------------------------------------------\n",
      "\n",
      "**Data Set Characteristics:**\n",
      "\n",
      ":Number of Instances: 569\n",
      "\n",
      ":Number of Attributes: 30 numeric, predictive attributes and the class\n",
      "\n",
      ":Attribute Information:\n",
      "    - radius (mean of distances from center to points on the perimeter)\n",
      "    - texture (standard deviation of gray-scale values)\n",
      "    - perimeter\n",
      "    - area\n",
      "    - smoothness (local variation in radius lengths)\n",
      "    - compactness (perimeter^2 / area - 1.0)\n",
      "    - concavity (severity of concave portions of the contour)\n",
      "    - concave points (number of concave portions of the contour)\n",
      "    - symmetry\n",
      "    - fractal dimension (\"coastline approximation\" - 1)\n",
      "\n",
      "    The mean, standard error, and \"worst\" or largest (mean of the three\n",
      "    worst/largest values) of these features were computed for each image,\n",
      "    resulting in 30 features.  For instance, field 0 is Mean Radius, field\n",
      "    10 is Radius SE, field 20 is Worst Radius.\n",
      "\n",
      "    - class:\n",
      "            - WDBC-Malignant\n",
      "            - WDBC-Benign\n",
      "\n",
      ":Summary Statistics:\n",
      "\n",
      "===================================== ====== ======\n",
      "                                        Min    Max\n",
      "===================================== ====== ======\n",
      "radius (mean):                        6.981  28.11\n",
      "texture (mean):                       9.71   39.28\n",
      "perimeter (mean):                     43.79  188.5\n",
      "area (mean):                          143.5  2501.0\n",
      "smoothness (mean):                    0.053  0.163\n",
      "compactness (mean):                   0.019  0.345\n",
      "concavity (mean):                     0.0    0.427\n",
      "concave points (mean):                0.0    0.201\n",
      "symmetry (mean):                      0.106  0.304\n",
      "fractal dimension (mean):             0.05   0.097\n",
      "radius (standard error):              0.112  2.873\n",
      "texture (standard error):             0.36   4.885\n",
      "perimeter (standard error):           0.757  21.98\n",
      "area (standard error):                6.802  542.2\n",
      "smoothness (standard error):          0.002  0.031\n",
      "compactness (standard error):         0.002  0.135\n",
      "concavity (standard error):           0.0    0.396\n",
      "concave points (standard error):      0.0    0.053\n",
      "symmetry (standard error):            0.008  0.079\n",
      "fractal dimension (standard error):   0.001  0.03\n",
      "radius (worst):                       7.93   36.04\n",
      "texture (worst):                      12.02  49.54\n",
      "perimeter (worst):                    50.41  251.2\n",
      "area (worst):                         185.2  4254.0\n",
      "smoothness (worst):                   0.071  0.223\n",
      "compactness (worst):                  0.027  1.058\n",
      "concavity (worst):                    0.0    1.252\n",
      "concave points (worst):               0.0    0.291\n",
      "symmetry (worst):                     0.156  0.664\n",
      "fractal dimension (worst):            0.055  0.208\n",
      "===================================== ====== ======\n",
      "\n",
      ":Missing Attribute Values: None\n",
      "\n",
      ":Class Distribution: 212 - Malignant, 357 - Benign\n",
      "\n",
      ":Creator:  Dr. William H. Wolberg, W. Nick Street, Olvi L. Mangasarian\n",
      "\n",
      ":Donor: Nick Street\n",
      "\n",
      ":Date: November, 1995\n",
      "\n",
      "This is a copy of UCI ML Breast Cancer Wisconsin (Diagnostic) datasets.\n",
      "https://goo.gl/U2Uwz2\n",
      "\n",
      "Features are computed from a digitized image of a fine needle\n",
      "aspirate (FNA) of a breast mass.  They describe\n",
      "characteristics of the cell nuclei present in the image.\n",
      "\n",
      "Separating plane described above was obtained using\n",
      "Multisurface Method-Tree (MSM-T) [K. P. Bennett, \"Decision Tree\n",
      "Construction Via Linear Programming.\" Proceedings of the 4th\n",
      "Midwest Artificial Intelligence and Cognitive Science Society,\n",
      "pp. 97-101, 1992], a classification method which uses linear\n",
      "programming to construct a decision tree.  Relevant features\n",
      "were selected using an exhaustive search in the space of 1-4\n",
      "features and 1-3 separating planes.\n",
      "\n",
      "The actual linear program used to obtain the separating plane\n",
      "in the 3-dimensional space is that described in:\n",
      "[K. P. Bennett and O. L. Mangasarian: \"Robust Linear\n",
      "Programming Discrimination of Two Linearly Inseparable Sets\",\n",
      "Optimization Methods and Software 1, 1992, 23-34].\n",
      "\n",
      "This database is also available through the UW CS ftp server:\n",
      "\n",
      "ftp ftp.cs.wisc.edu\n",
      "cd math-prog/cpo-dataset/machine-learn/WDBC/\n",
      "\n",
      ".. dropdown:: References\n",
      "\n",
      "  - W.N. Street, W.H. Wolberg and O.L. Mangasarian. Nuclear feature extraction\n",
      "    for breast tumor diagnosis. IS&T/SPIE 1993 International Symposium on\n",
      "    Electronic Imaging: Science and Technology, volume 1905, pages 861-870,\n",
      "    San Jose, CA, 1993.\n",
      "  - O.L. Mangasarian, W.N. Street and W.H. Wolberg. Breast cancer diagnosis and\n",
      "    prognosis via linear programming. Operations Research, 43(4), pages 570-577,\n",
      "    July-August 1995.\n",
      "  - W.H. Wolberg, W.N. Street, and O.L. Mangasarian. Machine learning techniques\n",
      "    to diagnose breast cancer from fine-needle aspirates. Cancer Letters 77 (1994)\n",
      "    163-171.\n",
      "\n"
     ]
    }
   ],
   "source": [
    "D = dt.load_breast_cancer()\n",
    "print(D.DESCR)"
   ]
  },
  {
   "cell_type": "code",
   "execution_count": 44,
   "id": "ff6abc72",
   "metadata": {},
   "outputs": [
    {
     "data": {
      "text/plain": [
       "(569, 30)"
      ]
     },
     "execution_count": 44,
     "metadata": {},
     "output_type": "execute_result"
    }
   ],
   "source": [
    "X = D.data\n",
    "Y = D.target\n",
    "\n",
    "X.shape"
   ]
  },
  {
   "cell_type": "code",
   "execution_count": 45,
   "id": "671fddb2",
   "metadata": {},
   "outputs": [
    {
     "data": {
      "text/plain": [
       "[<matplotlib.lines.Line2D at 0x2171d29e900>]"
      ]
     },
     "execution_count": 45,
     "metadata": {},
     "output_type": "execute_result"
    },
    {
     "data": {
      "image/png": "[encoded data removed]",
      "text/plain": [
       "<Figure size 640x480 with 1 Axes>"
      ]
     },
     "metadata": {},
     "output_type": "display_data"
    }
   ],
   "source": [
    "m = np.mean(X, axis=0)\n",
    "\n",
    "plt.plot(np.log(m+1), '.')"
   ]
  },
  {
   "cell_type": "code",
   "execution_count": 46,
   "id": "35e6a00d",
   "metadata": {},
   "outputs": [
    {
     "data": {
      "text/plain": [
       "array([-1.10608652e-14, -2.84841473e-14, -1.72328467e-14, -3.17883583e-13,\n",
       "        8.51325454e-17, -6.14500639e-17, -2.46824627e-17,  3.80968446e-17,\n",
       "       -5.04624657e-17, -1.07315055e-17, -2.75311896e-16, -4.76088608e-16,\n",
       "        3.76656332e-15, -3.37788770e-14, -2.21794610e-18, -6.67670371e-18,\n",
       "        2.64873068e-17, -1.67679774e-18, -2.67068148e-18, -7.98003286e-19,\n",
       "       -1.11826190e-14,  1.08204794e-14, -4.20581359e-14,  2.28772283e-13,\n",
       "       -1.18753864e-16, -3.46237391e-16,  1.18631915e-16, -1.32680432e-17,\n",
       "       -1.45314341e-16,  4.52552465e-17])"
      ]
     },
     "execution_count": 46,
     "metadata": {},
     "output_type": "execute_result"
    }
   ],
   "source": [
    "Xn = X-m\n",
    "\n",
    "np.mean(Xn, axis=0)"
   ]
  },
  {
   "cell_type": "code",
   "execution_count": 47,
   "id": "4cc65130",
   "metadata": {},
   "outputs": [
    {
     "data": {
      "text/plain": [
       "array([1.23970943e+01, 1.84663974e+01, 5.89402799e+02, 1.23625903e+05,\n",
       "       1.97452073e-04, 2.78428549e-03, 6.34407875e-03, 1.50301462e-03,\n",
       "       7.50222008e-04, 4.97611152e-05, 7.67671984e-02, 3.03781123e-01,\n",
       "       4.08071149e+00, 2.06579462e+03, 8.99927022e-06, 3.20139261e-04,\n",
       "       9.09596835e-04, 3.80055080e-05, 6.82128053e-05, 6.98938631e-06,\n",
       "       2.33191693e+01, 3.77100918e+01, 1.12714643e+03, 3.23597671e+05,\n",
       "       5.20403629e-04, 2.47112650e-02, 4.34475982e-02, 4.31314711e-03,\n",
       "       3.82085668e-03, 3.25636075e-04])"
      ]
     },
     "execution_count": 47,
     "metadata": {},
     "output_type": "execute_result"
    }
   ],
   "source": [
    "np.var(Xn, axis=0)"
   ]
  },
  {
   "cell_type": "code",
   "execution_count": 48,
   "id": "663e2e70",
   "metadata": {},
   "outputs": [
    {
     "data": {
      "text/plain": [
       "array([2.84014196e-01, 2.32706713e-01, 4.11902002e-02, 2.84410261e-03,\n",
       "       7.11654420e+01, 1.89514794e+01, 1.25549711e+01, 2.57939823e+01,\n",
       "       3.65094340e+01, 1.41760406e+02, 3.60921002e+00, 1.81434390e+00,\n",
       "       4.95030611e-01, 2.20017096e-02, 3.33346849e+02, 5.58895394e+01,\n",
       "       3.31570229e+01, 1.62209666e+02, 1.21078504e+02, 3.78251342e+02,\n",
       "       2.07082530e-01, 1.62843791e-01, 2.97858384e-02, 1.75791271e-03,\n",
       "       4.38358913e+01, 6.36139717e+00, 4.79752353e+00, 1.52265974e+01,\n",
       "       1.61778061e+01, 5.54158175e+01])"
      ]
     },
     "execution_count": 48,
     "metadata": {},
     "output_type": "execute_result"
    }
   ],
   "source": [
    "s = 1 / np.std(Xn, axis=0)\n",
    "s"
   ]
  },
  {
   "cell_type": "code",
   "execution_count": 49,
   "id": "f0066e48",
   "metadata": {},
   "outputs": [
    {
     "data": {
      "text/plain": [
       "(30, 30)"
      ]
     },
     "execution_count": 49,
     "metadata": {},
     "output_type": "execute_result"
    }
   ],
   "source": [
    "S = np.diag(s)\n",
    "S.shape"
   ]
  },
  {
   "cell_type": "code",
   "execution_count": 50,
   "id": "8e8b1362",
   "metadata": {},
   "outputs": [
    {
     "data": {
      "text/plain": [
       "(569, 30)"
      ]
     },
     "execution_count": 50,
     "metadata": {},
     "output_type": "execute_result"
    }
   ],
   "source": [
    "Xnn = np.dot(S, Xn.T).T\n",
    "Xnn.shape"
   ]
  },
  {
   "cell_type": "code",
   "execution_count": 51,
   "id": "7abb7952",
   "metadata": {},
   "outputs": [
    {
     "data": {
      "text/plain": [
       "array([1., 1., 1., 1., 1., 1., 1., 1., 1., 1., 1., 1., 1., 1., 1., 1., 1.,\n",
       "       1., 1., 1., 1., 1., 1., 1., 1., 1., 1., 1., 1., 1.])"
      ]
     },
     "execution_count": 51,
     "metadata": {},
     "output_type": "execute_result"
    }
   ],
   "source": [
    "np.std(Xnn,axis=0)"
   ]
  },
  {
   "cell_type": "code",
   "execution_count": 52,
   "id": "f0db7a05",
   "metadata": {},
   "outputs": [
    {
     "data": {
      "text/plain": [
       "array([-3.16286735e-15, -6.53060890e-15, -7.07889127e-16, -8.79983452e-16,\n",
       "        6.13217737e-15, -1.12036918e-15, -4.42138027e-16,  9.73249991e-16,\n",
       "       -1.97167024e-15, -1.45363120e-15, -9.07641468e-16, -8.85349205e-16,\n",
       "        1.77367396e-15, -8.29155139e-16, -7.54180940e-16, -3.92187747e-16,\n",
       "        7.91789988e-16, -2.73946068e-16, -3.10823423e-16, -3.36676596e-16,\n",
       "       -2.33322442e-15,  1.76367415e-15, -1.19802625e-15,  5.04966114e-16,\n",
       "       -5.21317026e-15, -2.17478837e-15,  6.85645643e-16, -1.41265636e-16,\n",
       "       -2.28956670e-15,  2.57517109e-15])"
      ]
     },
     "execution_count": 52,
     "metadata": {},
     "output_type": "execute_result"
    }
   ],
   "source": [
    "ss = pp.StandardScaler().fit(X)\n",
    "Xn = ss.transform(X)\n",
    "\n",
    "np.mean(Xn, axis=0)"
   ]
  },
  {
   "cell_type": "code",
   "execution_count": 53,
   "id": "9b62b600",
   "metadata": {},
   "outputs": [
    {
     "data": {
      "text/plain": [
       "array([1., 1., 1., 1., 1., 1., 1., 1., 1., 1., 1., 1., 1., 1., 1., 1., 1.,\n",
       "       1., 1., 1., 1., 1., 1., 1., 1., 1., 1., 1., 1., 1.])"
      ]
     },
     "execution_count": 53,
     "metadata": {},
     "output_type": "execute_result"
    }
   ],
   "source": [
    "np.std(Xn, axis=0)"
   ]
  },
  {
   "cell_type": "code",
   "execution_count": 54,
   "id": "a097ffb0",
   "metadata": {},
   "outputs": [
    {
     "data": {
      "text/plain": [
       "dict_keys(['data', 'target', 'DESCR', 'target_names', 'foldTrain'])"
      ]
     },
     "execution_count": 54,
     "metadata": {},
     "output_type": "execute_result"
    }
   ],
   "source": [
    "D = pickle.load(open('data/MNISTsmall.p', 'rb'))\n",
    "D.keys()"
   ]
  },
  {
   "cell_type": "code",
   "execution_count": 55,
   "id": "6ea727bc",
   "metadata": {},
   "outputs": [
    {
     "data": {
      "text/plain": [
       "(784, 15000)"
      ]
     },
     "execution_count": 55,
     "metadata": {},
     "output_type": "execute_result"
    }
   ],
   "source": [
    "X = D.data\n",
    "y = D.target\n",
    "\n",
    "X.shape"
   ]
  },
  {
   "cell_type": "code",
   "execution_count": 56,
   "id": "df7e69d1",
   "metadata": {},
   "outputs": [
    {
     "data": {
      "text/plain": [
       "(784, 15000)"
      ]
     },
     "execution_count": 56,
     "metadata": {},
     "output_type": "execute_result"
    }
   ],
   "source": [
    "Xn = pp.StandardScaler().fit_transform(X.T).T\n",
    "Xn.shape"
   ]
  },
  {
   "cell_type": "code",
   "execution_count": 57,
   "id": "a2daf0dc",
   "metadata": {},
   "outputs": [
    {
     "data": {
      "text/plain": [
       "[<matplotlib.lines.Line2D at 0x2171dbdfcb0>]"
      ]
     },
     "execution_count": 57,
     "metadata": {},
     "output_type": "execute_result"
    },
    {
     "data": {
      "image/png": "[encoded data removed]",
      "text/plain": [
       "<Figure size 640x480 with 1 Axes>"
      ]
     },
     "metadata": {},
     "output_type": "display_data"
    }
   ],
   "source": [
    "plt.plot(np.mean(Xn, axis=1))"
   ]
  },
  {
   "cell_type": "code",
   "execution_count": 58,
   "id": "1b970913",
   "metadata": {},
   "outputs": [
    {
     "data": {
      "text/plain": [
       "(784,)"
      ]
     },
     "execution_count": 58,
     "metadata": {},
     "output_type": "execute_result"
    }
   ],
   "source": [
    "s = np.std(X, axis=1)\n",
    "s.shape"
   ]
  },
  {
   "cell_type": "code",
   "execution_count": 59,
   "id": "95c1f399",
   "metadata": {},
   "outputs": [
    {
     "name": "stderr",
     "output_type": "stream",
     "text": [
      "C:\\Users\\rui\\AppData\\Local\\Temp\\ipykernel_14960\\686881219.py:1: RuntimeWarning: divide by zero encountered in divide\n",
      "  S = np.diag(1/s)\n"
     ]
    }
   ],
   "source": [
    "S = np.diag(1/s)"
   ]
  },
  {
   "cell_type": "code",
   "execution_count": 60,
   "id": "e6f4dea7",
   "metadata": {},
   "outputs": [
    {
     "data": {
      "text/plain": [
       "[<matplotlib.lines.Line2D at 0x2171dc71a90>]"
      ]
     },
     "execution_count": 60,
     "metadata": {},
     "output_type": "execute_result"
    },
    {
     "data": {
      "image/png": "[encoded data removed]",
      "text/plain": [
       "<Figure size 640x480 with 1 Axes>"
      ]
     },
     "metadata": {},
     "output_type": "display_data"
    }
   ],
   "source": [
    "plt.plot(np.std(Xn, axis=1))"
   ]
  },
  {
   "cell_type": "code",
   "execution_count": 61,
   "id": "194151a4",
   "metadata": {},
   "outputs": [
    {
     "data": {
      "text/plain": [
       "dtype('float64')"
      ]
     },
     "execution_count": 61,
     "metadata": {},
     "output_type": "execute_result"
    }
   ],
   "source": [
    "X=X*1.\n",
    "X.dtype"
   ]
  }
 ],
 "metadata": {
  "kernelspec": {
   "display_name": "codigo",
   "language": "python",
   "name": "python3"
  },
  "language_info": {
   "codemirror_mode": {
    "name": "ipython",
    "version": 3
   },
   "file_extension": ".py",
   "mimetype": "text/x-python",
   "name": "python",
   "nbconvert_exporter": "python",
   "pygments_lexer": "ipython3",
   "version": "3.14.0"
  }
 },
 "nbformat": 4,
 "nbformat_minor": 5
}
